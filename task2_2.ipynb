{
 "cells": [
  {
   "cell_type": "markdown",
   "metadata": {},
   "source": [
    "Эксперимент 3.2 провести на основе следующих данных: q = 1, w = 1, … ,100 с шагом 1, n = 10^6, заполнение массива a: 1 - псевдослучайное, 2 - по возрастанию, 3 - по убыванию. (нарисовать графики функций TА(n) и ТВ(n) для всех трех случаев)."
   ]
  },
  {
   "cell_type": "code",
   "execution_count": 1,
   "metadata": {},
   "outputs": [],
   "source": [
    "import time\n",
    "import copy\n",
    "import random as rd\n",
    "import matplotlib.pyplot as plt\n",
    "\n",
    "from sort import k_merge_sort, d_heap_sort\n",
    "\n",
    "\n",
    "q = 1\n",
    "n = 1_000_000\n",
    "low_w, high_w, step = 1, 100, 1\n",
    "x_ax = [w for w in range(low_w, high_w, step)]"
   ]
  },
  {
   "cell_type": "code",
   "execution_count": 49,
   "metadata": {},
   "outputs": [],
   "source": [
    "\"\"\" создание массива случайных чисел \"\"\"\n",
    "arr1_r = [[]] * ((high_w - low_w) // step)\n",
    "arr2_r = []\n",
    "\n",
    "index = 0\n",
    "for w in range(low_w, high_w, step):\n",
    "    sub_arr = []\n",
    "    for _ in range(n):\n",
    "        sub_arr.append(rd.randint(q,w))\n",
    "    arr1_r[index] = sub_arr\n",
    "    index += 1\n",
    "arr2_r = copy.deepcopy(arr1_r)"
   ]
  },
  {
   "cell_type": "code",
   "execution_count": 51,
   "metadata": {},
   "outputs": [],
   "source": [
    "\"\"\" создание массива с числами по возрастанию \"\"\"\n",
    "arr1_g = [[]] * ((high_w - low_w) // step)\n",
    "arr2_g = []\n",
    "\n",
    "for i in range(len(arr1_r)):\n",
    "    arr1_g[i] = copy.deepcopy(arr1_r[i])\n",
    "    arr1_g[i].sort()\n",
    "arr2_g = copy.deepcopy(arr1_g)"
   ]
  },
  {
   "cell_type": "code",
   "execution_count": 58,
   "metadata": {},
   "outputs": [],
   "source": [
    "\"\"\" создание массива с числами по неубыванию \"\"\"\n",
    "arr1_l = [[]] * ((high_w - low_w) // step)\n",
    "arr2_l = []\n",
    "\n",
    "for i in range(len(arr1_g)):\n",
    "    arr1_l[i] = copy.deepcopy(arr1_g[i])\n",
    "    arr1_l[i][::-1]\n",
    "arr2_l = copy.deepcopy(arr1_l)"
   ]
  },
  {
   "cell_type": "code",
   "execution_count": 64,
   "metadata": {},
   "outputs": [],
   "source": [
    "\"\"\" сортировка массивов с псевдослучаными числами \"\"\"\n",
    "heap_rand_times = []\n",
    "for a in arr1_r:\n",
    "    start = time.time()\n",
    "    d_heap_sort(a, 3)\n",
    "    end = time.time()\n",
    "    heap_rand_times.append(end-start)\n",
    "\n",
    "merge_rand_times = []\n",
    "for a in arr2_r:\n",
    "    start = time.time()\n",
    "    k_merge_sort(a, 4)\n",
    "    end = time.time()\n",
    "    merge_rand_times.append(end-start)"
   ]
  },
  {
   "cell_type": "code",
   "execution_count": 66,
   "metadata": {},
   "outputs": [
    {
     "data": {
      "text/plain": [
       "[<matplotlib.lines.Line2D at 0x1bf8f9cfb50>]"
      ]
     },
     "execution_count": 66,
     "metadata": {},
     "output_type": "execute_result"
    },
    {
     "data": {
      "image/png": "[encoded data removed]",
      "text/plain": [
       "<Figure size 640x480 with 1 Axes>"
      ]
     },
     "metadata": {},
     "output_type": "display_data"
    }
   ],
   "source": [
    "\"\"\" графика времени работы \"\"\"\n",
    "plt.plot(x_ax, merge_rand_times, 'o', markersize = 0.5)\n",
    "plt.plot(x_ax, heap_rand_times, 'v', markersize = 0.5)"
   ]
  },
  {
   "cell_type": "code",
   "execution_count": 67,
   "metadata": {},
   "outputs": [],
   "source": [
    "\"\"\" сортировка массивов с числами по возрастанию \"\"\"\n",
    "heap_greate_times = []\n",
    "for a in arr1_g:\n",
    "    start = time.time()\n",
    "    d_heap_sort(a, 3)\n",
    "    end = time.time()\n",
    "    heap_greate_times.append(end-start)\n",
    "\n",
    "merge_greate_times = []\n",
    "for a in arr2_g:\n",
    "    start = time.time()\n",
    "    k_merge_sort(a, 4)\n",
    "    end = time.time()\n",
    "    merge_greate_times.append(end-start)"
   ]
  },
  {
   "cell_type": "code",
   "execution_count": 68,
   "metadata": {},
   "outputs": [
    {
     "data": {
      "text/plain": [
       "[<matplotlib.lines.Line2D at 0x1bf90942020>]"
      ]
     },
     "execution_count": 68,
     "metadata": {},
     "output_type": "execute_result"
    },
    {
     "data": {
      "image/png": "[encoded data removed]",
      "text/plain": [
       "<Figure size 640x480 with 1 Axes>"
      ]
     },
     "metadata": {},
     "output_type": "display_data"
    }
   ],
   "source": [
    "\"\"\" график времени работы \"\"\"\n",
    "plt.plot(x_ax, merge_greate_times, 'o', markersize = 0.3)\n",
    "plt.plot(x_ax, heap_greate_times, 'v', markersize = 0.3)"
   ]
  },
  {
   "cell_type": "code",
   "execution_count": 69,
   "metadata": {},
   "outputs": [],
   "source": [
    "\"\"\" сортировка массивов с числами по убыванию \"\"\"\n",
    "heap_lower_times = []\n",
    "for a in arr1_l:\n",
    "    start = time.time()\n",
    "    d_heap_sort(a, 3)\n",
    "    end = time.time()\n",
    "    heap_lower_times.append(end-start)\n",
    "\n",
    "merge_lower_times = []\n",
    "for a in arr2_l:\n",
    "    start = time.time()\n",
    "    k_merge_sort(a, 4)\n",
    "    end = time.time()\n",
    "    merge_lower_times.append(end-start)"
   ]
  },
  {
   "cell_type": "code",
   "execution_count": null,
   "metadata": {},
   "outputs": [],
   "source": [
    "\"\"\" графика времени работы \"\"\"\n",
    "plt.plot(x_ax, merge_lower_times, 'o', markersize = 0.3)\n",
    "plt.plot(x_ax, heap_lower_times, 'v', markersize = 0.3)"
   ]
  },
  {
   "cell_type": "code",
   "execution_count": null,
   "metadata": {},
   "outputs": [],
   "source": [
    "\"\"\" Графики по всем 3 наполнениям массивов \"\"\"\n",
    "fig, (ax1, ax2, ax3) = plt.subplots(3, 1, figsize=(6, 18))\n",
    "\n",
    "l1, = ax1.plot(x_ax, merge_rand_times, 'o', markersize=0.3)\n",
    "l2, = ax1.plot(x_ax, heap_rand_times, 'v', markersize=0.3)\n",
    "ax1.legend([l1, l2], ['4 merge sort', '3 heap sort'])\n",
    "ax1.set_xlabel('верхняя граница значений w')\n",
    "ax1.set_ylabel('время, с')\n",
    "ax1.set_title('Массив псевдослучайных чисел')\n",
    "\n",
    "l3, = ax2.plot(x_ax, merge_greate_times, 'o', markersize=0.3)\n",
    "l4, = ax2.plot(x_ax, heap_greate_times, 'v', markersize=0.3)\n",
    "ax2.legend([l3, l4], ['4 merge sort', '3 heap sort'])\n",
    "ax2.set_xlabel('верхняя граница значений w')\n",
    "ax2.set_ylabel('время, с')\n",
    "ax2.set_title('Массив чисел расположенных по возрастанию')\n",
    "\n",
    "l5, = ax3.plot(x_ax, merge_lower_times, 'o', markersize=0.3)\n",
    "l6, = ax3.plot(x_ax, heap_lower_times, 'v', markersize=0.3)\n",
    "ax3.legend([l3, l4], ['4 merge sort', '3 heap sort'])\n",
    "ax3.set_xlabel('верхняя граница значений w')\n",
    "ax3.set_ylabel('время, с')\n",
    "ax3.set_title('Массив чисел расположенных по возрастанию')"
   ]
  }
 ],
 "metadata": {
  "kernelspec": {
   "display_name": "visual",
   "language": "python",
   "name": "python3"
  },
  "language_info": {
   "codemirror_mode": {
    "name": "ipython",
    "version": 3
   },
   "file_extension": ".py",
   "mimetype": "text/x-python",
   "name": "python",
   "nbconvert_exporter": "python",
   "pygments_lexer": "ipython3",
   "version": "3.10.11"
  }
 },
 "nbformat": 4,
 "nbformat_minor": 2
}
